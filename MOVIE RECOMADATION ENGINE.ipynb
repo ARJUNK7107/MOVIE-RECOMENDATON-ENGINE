{
 "cells": [
  {
   "cell_type": "code",
   "execution_count": 2,
   "id": "fbcd56cd-441b-40eb-81b0-7dbfb44380ac",
   "metadata": {},
   "outputs": [
    {
     "name": "stdout",
     "output_type": "stream",
     "text": [
      "Requirement already satisfied: pandas in c:\\users\\dell\\appdata\\local\\programs\\python\\python312\\lib\\site-packages (2.1.4)Note: you may need to restart the kernel to use updated packages.\n",
      "\n",
      "Requirement already satisfied: numpy<2,>=1.26.0 in c:\\users\\dell\\appdata\\local\\programs\\python\\python312\\lib\\site-packages (from pandas) (1.26.3)\n",
      "Requirement already satisfied: python-dateutil>=2.8.2 in c:\\users\\dell\\appdata\\local\\programs\\python\\python312\\lib\\site-packages (from pandas) (2.8.2)\n",
      "Requirement already satisfied: pytz>=2020.1 in c:\\users\\dell\\appdata\\local\\programs\\python\\python312\\lib\\site-packages (from pandas) (2023.3.post1)\n",
      "Requirement already satisfied: tzdata>=2022.1 in c:\\users\\dell\\appdata\\local\\programs\\python\\python312\\lib\\site-packages (from pandas) (2023.4)\n",
      "Requirement already satisfied: six>=1.5 in c:\\users\\dell\\appdata\\local\\programs\\python\\python312\\lib\\site-packages (from python-dateutil>=2.8.2->pandas) (1.16.0)\n"
     ]
    },
    {
     "name": "stderr",
     "output_type": "stream",
     "text": [
      "\n",
      "[notice] A new release of pip is available: 23.2.1 -> 23.3.2\n",
      "[notice] To update, run: python.exe -m pip install --upgrade pip\n"
     ]
    }
   ],
   "source": [
    "pip install pandas"
   ]
  },
  {
   "cell_type": "code",
   "execution_count": 131,
   "id": "78819555-8917-44f5-9029-decc6585601b",
   "metadata": {},
   "outputs": [],
   "source": [
    "import pandas as pd\n"
   ]
  },
  {
   "cell_type": "code",
   "execution_count": 132,
   "id": "8896c92d-4422-44b1-aa47-5ca021244c56",
   "metadata": {},
   "outputs": [],
   "source": [
    "import numpy as np"
   ]
  },
  {
   "cell_type": "code",
   "execution_count": 133,
   "id": "039a8520-51a4-4955-ab98-831ea27137a5",
   "metadata": {},
   "outputs": [],
   "source": [
    "from sklearn.feature_extraction.text import CountVectorizer"
   ]
  },
  {
   "cell_type": "code",
   "execution_count": 134,
   "id": "4ca637de-734c-4d82-a341-1c02956e4cac",
   "metadata": {},
   "outputs": [],
   "source": [
    "from sklearn.metrics.pairwise import cosine_similarity\n",
    "from ipywidgets import *"
   ]
  },
  {
   "cell_type": "code",
   "execution_count": 135,
   "id": "33b5fba9-4550-4f31-81aa-d47b1e5a5bd5",
   "metadata": {},
   "outputs": [],
   "source": [
    "movies=pd.read_csv(\"movies.csv\")\n",
    "ratings=pd.read_csv(\"ratings.csv\")"
   ]
  },
  {
   "cell_type": "code",
   "execution_count": 136,
   "id": "b3fede67-5038-48c2-a48d-eb21d0c671c2",
   "metadata": {},
   "outputs": [
    {
     "data": {
      "text/html": [
       "<div>\n",
       "<style scoped>\n",
       "    .dataframe tbody tr th:only-of-type {\n",
       "        vertical-align: middle;\n",
       "    }\n",
       "\n",
       "    .dataframe tbody tr th {\n",
       "        vertical-align: top;\n",
       "    }\n",
       "\n",
       "    .dataframe thead th {\n",
       "        text-align: right;\n",
       "    }\n",
       "</style>\n",
       "<table border=\"1\" class=\"dataframe\">\n",
       "  <thead>\n",
       "    <tr style=\"text-align: right;\">\n",
       "      <th></th>\n",
       "      <th>movieId</th>\n",
       "      <th>title</th>\n",
       "      <th>genres</th>\n",
       "    </tr>\n",
       "  </thead>\n",
       "  <tbody>\n",
       "    <tr>\n",
       "      <th>0</th>\n",
       "      <td>1</td>\n",
       "      <td>Toy Story (1995)</td>\n",
       "      <td>Adventure|Animation|Children|Comedy|Fantasy</td>\n",
       "    </tr>\n",
       "    <tr>\n",
       "      <th>1</th>\n",
       "      <td>2</td>\n",
       "      <td>Jumanji (1995)</td>\n",
       "      <td>Adventure|Children|Fantasy</td>\n",
       "    </tr>\n",
       "    <tr>\n",
       "      <th>2</th>\n",
       "      <td>3</td>\n",
       "      <td>Grumpier Old Men (1995)</td>\n",
       "      <td>Comedy|Romance</td>\n",
       "    </tr>\n",
       "    <tr>\n",
       "      <th>3</th>\n",
       "      <td>4</td>\n",
       "      <td>Waiting to Exhale (1995)</td>\n",
       "      <td>Comedy|Drama|Romance</td>\n",
       "    </tr>\n",
       "    <tr>\n",
       "      <th>4</th>\n",
       "      <td>5</td>\n",
       "      <td>Father of the Bride Part II (1995)</td>\n",
       "      <td>Comedy</td>\n",
       "    </tr>\n",
       "  </tbody>\n",
       "</table>\n",
       "</div>"
      ],
      "text/plain": [
       "   movieId                               title  \\\n",
       "0        1                    Toy Story (1995)   \n",
       "1        2                      Jumanji (1995)   \n",
       "2        3             Grumpier Old Men (1995)   \n",
       "3        4            Waiting to Exhale (1995)   \n",
       "4        5  Father of the Bride Part II (1995)   \n",
       "\n",
       "                                        genres  \n",
       "0  Adventure|Animation|Children|Comedy|Fantasy  \n",
       "1                   Adventure|Children|Fantasy  \n",
       "2                               Comedy|Romance  \n",
       "3                         Comedy|Drama|Romance  \n",
       "4                                       Comedy  "
      ]
     },
     "execution_count": 136,
     "metadata": {},
     "output_type": "execute_result"
    }
   ],
   "source": [
    "movies.head()"
   ]
  },
  {
   "cell_type": "code",
   "execution_count": 137,
   "id": "9155d4cd-9ec7-47c9-b643-bb1980128e6f",
   "metadata": {},
   "outputs": [
    {
     "data": {
      "text/html": [
       "<div>\n",
       "<style scoped>\n",
       "    .dataframe tbody tr th:only-of-type {\n",
       "        vertical-align: middle;\n",
       "    }\n",
       "\n",
       "    .dataframe tbody tr th {\n",
       "        vertical-align: top;\n",
       "    }\n",
       "\n",
       "    .dataframe thead th {\n",
       "        text-align: right;\n",
       "    }\n",
       "</style>\n",
       "<table border=\"1\" class=\"dataframe\">\n",
       "  <thead>\n",
       "    <tr style=\"text-align: right;\">\n",
       "      <th></th>\n",
       "      <th>userId</th>\n",
       "      <th>movieId</th>\n",
       "      <th>rating</th>\n",
       "      <th>timestamp</th>\n",
       "    </tr>\n",
       "  </thead>\n",
       "  <tbody>\n",
       "    <tr>\n",
       "      <th>0</th>\n",
       "      <td>1</td>\n",
       "      <td>16</td>\n",
       "      <td>4.0</td>\n",
       "      <td>1217897793</td>\n",
       "    </tr>\n",
       "    <tr>\n",
       "      <th>1</th>\n",
       "      <td>1</td>\n",
       "      <td>24</td>\n",
       "      <td>1.5</td>\n",
       "      <td>1217895807</td>\n",
       "    </tr>\n",
       "    <tr>\n",
       "      <th>2</th>\n",
       "      <td>1</td>\n",
       "      <td>32</td>\n",
       "      <td>4.0</td>\n",
       "      <td>1217896246</td>\n",
       "    </tr>\n",
       "    <tr>\n",
       "      <th>3</th>\n",
       "      <td>1</td>\n",
       "      <td>47</td>\n",
       "      <td>4.0</td>\n",
       "      <td>1217896556</td>\n",
       "    </tr>\n",
       "    <tr>\n",
       "      <th>4</th>\n",
       "      <td>1</td>\n",
       "      <td>50</td>\n",
       "      <td>4.0</td>\n",
       "      <td>1217896523</td>\n",
       "    </tr>\n",
       "  </tbody>\n",
       "</table>\n",
       "</div>"
      ],
      "text/plain": [
       "   userId  movieId  rating   timestamp\n",
       "0       1       16     4.0  1217897793\n",
       "1       1       24     1.5  1217895807\n",
       "2       1       32     4.0  1217896246\n",
       "3       1       47     4.0  1217896556\n",
       "4       1       50     4.0  1217896523"
      ]
     },
     "execution_count": 137,
     "metadata": {},
     "output_type": "execute_result"
    }
   ],
   "source": [
    "ratings.head()"
   ]
  },
  {
   "cell_type": "code",
   "execution_count": 138,
   "id": "85e498fc-337c-4f26-b37e-e430b18362e5",
   "metadata": {},
   "outputs": [
    {
     "data": {
      "text/plain": [
       "<bound method DataFrame.info of        movieId                                title  \\\n",
       "0            1                     Toy Story (1995)   \n",
       "1            2                       Jumanji (1995)   \n",
       "2            3              Grumpier Old Men (1995)   \n",
       "3            4             Waiting to Exhale (1995)   \n",
       "4            5   Father of the Bride Part II (1995)   \n",
       "...        ...                                  ...   \n",
       "10324   146684        Cosmic Scrat-tastrophe (2015)   \n",
       "10325   146878           Le Grand Restaurant (1966)   \n",
       "10326   148238       A Very Murray Christmas (2015)   \n",
       "10327   148626                 The Big Short (2015)   \n",
       "10328   149532  Marco Polo: One Hundred Eyes (2015)   \n",
       "\n",
       "                                            genres  \n",
       "0      Adventure|Animation|Children|Comedy|Fantasy  \n",
       "1                       Adventure|Children|Fantasy  \n",
       "2                                   Comedy|Romance  \n",
       "3                             Comedy|Drama|Romance  \n",
       "4                                           Comedy  \n",
       "...                                            ...  \n",
       "10324                    Animation|Children|Comedy  \n",
       "10325                                       Comedy  \n",
       "10326                                       Comedy  \n",
       "10327                                        Drama  \n",
       "10328                           (no genres listed)  \n",
       "\n",
       "[10329 rows x 3 columns]>"
      ]
     },
     "execution_count": 138,
     "metadata": {},
     "output_type": "execute_result"
    }
   ],
   "source": [
    "movies.info"
   ]
  },
  {
   "cell_type": "code",
   "execution_count": 139,
   "id": "7834466f-d0cd-45e0-97dd-d48dde03e160",
   "metadata": {},
   "outputs": [
    {
     "data": {
      "text/html": [
       "<div>\n",
       "<style scoped>\n",
       "    .dataframe tbody tr th:only-of-type {\n",
       "        vertical-align: middle;\n",
       "    }\n",
       "\n",
       "    .dataframe tbody tr th {\n",
       "        vertical-align: top;\n",
       "    }\n",
       "\n",
       "    .dataframe thead th {\n",
       "        text-align: right;\n",
       "    }\n",
       "</style>\n",
       "<table border=\"1\" class=\"dataframe\">\n",
       "  <thead>\n",
       "    <tr style=\"text-align: right;\">\n",
       "      <th></th>\n",
       "      <th>userId</th>\n",
       "      <th>movieId</th>\n",
       "      <th>rating</th>\n",
       "      <th>timestamp</th>\n",
       "    </tr>\n",
       "  </thead>\n",
       "  <tbody>\n",
       "    <tr>\n",
       "      <th>count</th>\n",
       "      <td>105339.000000</td>\n",
       "      <td>105339.000000</td>\n",
       "      <td>105339.000000</td>\n",
       "      <td>1.053390e+05</td>\n",
       "    </tr>\n",
       "    <tr>\n",
       "      <th>mean</th>\n",
       "      <td>364.924539</td>\n",
       "      <td>13381.312477</td>\n",
       "      <td>3.516850</td>\n",
       "      <td>1.130424e+09</td>\n",
       "    </tr>\n",
       "    <tr>\n",
       "      <th>std</th>\n",
       "      <td>197.486905</td>\n",
       "      <td>26170.456869</td>\n",
       "      <td>1.044872</td>\n",
       "      <td>1.802660e+08</td>\n",
       "    </tr>\n",
       "    <tr>\n",
       "      <th>min</th>\n",
       "      <td>1.000000</td>\n",
       "      <td>1.000000</td>\n",
       "      <td>0.500000</td>\n",
       "      <td>8.285650e+08</td>\n",
       "    </tr>\n",
       "    <tr>\n",
       "      <th>25%</th>\n",
       "      <td>192.000000</td>\n",
       "      <td>1073.000000</td>\n",
       "      <td>3.000000</td>\n",
       "      <td>9.711008e+08</td>\n",
       "    </tr>\n",
       "    <tr>\n",
       "      <th>50%</th>\n",
       "      <td>383.000000</td>\n",
       "      <td>2497.000000</td>\n",
       "      <td>3.500000</td>\n",
       "      <td>1.115154e+09</td>\n",
       "    </tr>\n",
       "    <tr>\n",
       "      <th>75%</th>\n",
       "      <td>557.000000</td>\n",
       "      <td>5991.000000</td>\n",
       "      <td>4.000000</td>\n",
       "      <td>1.275496e+09</td>\n",
       "    </tr>\n",
       "    <tr>\n",
       "      <th>max</th>\n",
       "      <td>668.000000</td>\n",
       "      <td>149532.000000</td>\n",
       "      <td>5.000000</td>\n",
       "      <td>1.452405e+09</td>\n",
       "    </tr>\n",
       "  </tbody>\n",
       "</table>\n",
       "</div>"
      ],
      "text/plain": [
       "              userId        movieId         rating     timestamp\n",
       "count  105339.000000  105339.000000  105339.000000  1.053390e+05\n",
       "mean      364.924539   13381.312477       3.516850  1.130424e+09\n",
       "std       197.486905   26170.456869       1.044872  1.802660e+08\n",
       "min         1.000000       1.000000       0.500000  8.285650e+08\n",
       "25%       192.000000    1073.000000       3.000000  9.711008e+08\n",
       "50%       383.000000    2497.000000       3.500000  1.115154e+09\n",
       "75%       557.000000    5991.000000       4.000000  1.275496e+09\n",
       "max       668.000000  149532.000000       5.000000  1.452405e+09"
      ]
     },
     "execution_count": 139,
     "metadata": {},
     "output_type": "execute_result"
    }
   ],
   "source": [
    "ratings.describe()"
   ]
  },
  {
   "cell_type": "code",
   "execution_count": 140,
   "id": "34ac672d-eadb-45d9-b323-a538ba73afe7",
   "metadata": {},
   "outputs": [
    {
     "data": {
      "text/plain": [
       "(10329, 3)"
      ]
     },
     "execution_count": 140,
     "metadata": {},
     "output_type": "execute_result"
    }
   ],
   "source": [
    "movies.shape"
   ]
  },
  {
   "cell_type": "code",
   "execution_count": 141,
   "id": "ca27104e-e1b7-4d75-8278-a64dcce1897e",
   "metadata": {},
   "outputs": [
    {
     "data": {
      "text/plain": [
       "<bound method DataFrame.info of         userId  movieId  rating   timestamp\n",
       "0            1       16     4.0  1217897793\n",
       "1            1       24     1.5  1217895807\n",
       "2            1       32     4.0  1217896246\n",
       "3            1       47     4.0  1217896556\n",
       "4            1       50     4.0  1217896523\n",
       "...        ...      ...     ...         ...\n",
       "105334     668   142488     4.0  1451535844\n",
       "105335     668   142507     3.5  1451535889\n",
       "105336     668   143385     4.0  1446388585\n",
       "105337     668   144976     2.5  1448656898\n",
       "105338     668   148626     4.5  1451148148\n",
       "\n",
       "[105339 rows x 4 columns]>"
      ]
     },
     "execution_count": 141,
     "metadata": {},
     "output_type": "execute_result"
    }
   ],
   "source": [
    "ratings.info"
   ]
  },
  {
   "cell_type": "code",
   "execution_count": 142,
   "id": "4ccd40e3-fde8-48c7-987b-2798145bf8b2",
   "metadata": {},
   "outputs": [
    {
     "data": {
      "text/plain": [
       "(105339, 4)"
      ]
     },
     "execution_count": 142,
     "metadata": {},
     "output_type": "execute_result"
    }
   ],
   "source": [
    "ratings.shape"
   ]
  },
  {
   "cell_type": "code",
   "execution_count": 143,
   "id": "7c8c4081-777f-4fc0-a149-a199d669e0db",
   "metadata": {},
   "outputs": [],
   "source": [
    "movies['genres']=movies['genres'].str.split(\"|\")"
   ]
  },
  {
   "cell_type": "code",
   "execution_count": 144,
   "id": "8dddd060-3a8c-41a4-aaae-9d2258a53467",
   "metadata": {},
   "outputs": [
    {
     "data": {
      "text/html": [
       "<div>\n",
       "<style scoped>\n",
       "    .dataframe tbody tr th:only-of-type {\n",
       "        vertical-align: middle;\n",
       "    }\n",
       "\n",
       "    .dataframe tbody tr th {\n",
       "        vertical-align: top;\n",
       "    }\n",
       "\n",
       "    .dataframe thead th {\n",
       "        text-align: right;\n",
       "    }\n",
       "</style>\n",
       "<table border=\"1\" class=\"dataframe\">\n",
       "  <thead>\n",
       "    <tr style=\"text-align: right;\">\n",
       "      <th></th>\n",
       "      <th>movieId</th>\n",
       "      <th>title</th>\n",
       "      <th>genres</th>\n",
       "    </tr>\n",
       "  </thead>\n",
       "  <tbody>\n",
       "    <tr>\n",
       "      <th>0</th>\n",
       "      <td>1</td>\n",
       "      <td>Toy Story (1995)</td>\n",
       "      <td>Adventure</td>\n",
       "    </tr>\n",
       "    <tr>\n",
       "      <th>0</th>\n",
       "      <td>1</td>\n",
       "      <td>Toy Story (1995)</td>\n",
       "      <td>Animation</td>\n",
       "    </tr>\n",
       "    <tr>\n",
       "      <th>0</th>\n",
       "      <td>1</td>\n",
       "      <td>Toy Story (1995)</td>\n",
       "      <td>Children</td>\n",
       "    </tr>\n",
       "    <tr>\n",
       "      <th>0</th>\n",
       "      <td>1</td>\n",
       "      <td>Toy Story (1995)</td>\n",
       "      <td>Comedy</td>\n",
       "    </tr>\n",
       "    <tr>\n",
       "      <th>0</th>\n",
       "      <td>1</td>\n",
       "      <td>Toy Story (1995)</td>\n",
       "      <td>Fantasy</td>\n",
       "    </tr>\n",
       "  </tbody>\n",
       "</table>\n",
       "</div>"
      ],
      "text/plain": [
       "   movieId             title     genres\n",
       "0        1  Toy Story (1995)  Adventure\n",
       "0        1  Toy Story (1995)  Animation\n",
       "0        1  Toy Story (1995)   Children\n",
       "0        1  Toy Story (1995)     Comedy\n",
       "0        1  Toy Story (1995)    Fantasy"
      ]
     },
     "execution_count": 144,
     "metadata": {},
     "output_type": "execute_result"
    }
   ],
   "source": [
    "movies2=movies.explode('genres')\n",
    "movies2.head()"
   ]
  },
  {
   "cell_type": "code",
   "execution_count": 145,
   "id": "249b5749-fb94-433b-8dd0-8209badef20f",
   "metadata": {},
   "outputs": [
    {
     "data": {
      "text/plain": [
       "array(['Adventure', 'Animation', 'Children', 'Comedy', 'Fantasy',\n",
       "       'Romance', 'Drama', 'Action', 'Crime', 'Thriller', 'Horror',\n",
       "       'Mystery', 'Sci-Fi', 'IMAX', 'War', 'Musical', 'Documentary',\n",
       "       'Western', 'Film-Noir', '(no genres listed)'], dtype=object)"
      ]
     },
     "execution_count": 145,
     "metadata": {},
     "output_type": "execute_result"
    }
   ],
   "source": [
    "movies2['genres'].unique()"
   ]
  },
  {
   "cell_type": "code",
   "execution_count": 146,
   "id": "7e50f5a1-18de-418a-b095-01b4a742464c",
   "metadata": {},
   "outputs": [
    {
     "data": {
      "text/plain": [
       "20"
      ]
     },
     "execution_count": 146,
     "metadata": {},
     "output_type": "execute_result"
    }
   ],
   "source": [
    "movies2['genres'].nunique()"
   ]
  },
  {
   "cell_type": "code",
   "execution_count": 147,
   "id": "2ee4bd5f-d772-47e2-91fb-0d60aaab3f81",
   "metadata": {},
   "outputs": [],
   "source": [
    "movies2=movies2[movies2['genres']!='(no genres listed)']"
   ]
  },
  {
   "cell_type": "code",
   "execution_count": 148,
   "id": "3ed4da20-bdc0-48a0-ad64-c0528994fb25",
   "metadata": {},
   "outputs": [
    {
     "data": {
      "text/plain": [
       "array(['Adventure', 'Animation', 'Children', 'Comedy', 'Fantasy',\n",
       "       'Romance', 'Drama', 'Action', 'Crime', 'Thriller', 'Horror',\n",
       "       'Mystery', 'Sci-Fi', 'IMAX', 'War', 'Musical', 'Documentary',\n",
       "       'Western', 'Film-Noir'], dtype=object)"
      ]
     },
     "execution_count": 148,
     "metadata": {},
     "output_type": "execute_result"
    }
   ],
   "source": [
    "movies2['genres'].unique()"
   ]
  },
  {
   "cell_type": "code",
   "execution_count": 149,
   "id": "8dbc24b7-c272-4f6b-8ed1-7aa1b4ee325c",
   "metadata": {},
   "outputs": [
    {
     "data": {
      "text/plain": [
       "19"
      ]
     },
     "execution_count": 149,
     "metadata": {},
     "output_type": "execute_result"
    }
   ],
   "source": [
    "movies2['genres'].nunique()"
   ]
  },
  {
   "cell_type": "code",
   "execution_count": 152,
   "id": "365e320e-4a48-4aa0-83bb-ff2b27560dff",
   "metadata": {},
   "outputs": [
    {
     "data": {
      "text/html": [
       "<div>\n",
       "<style scoped>\n",
       "    .dataframe tbody tr th:only-of-type {\n",
       "        vertical-align: middle;\n",
       "    }\n",
       "\n",
       "    .dataframe tbody tr th {\n",
       "        vertical-align: top;\n",
       "    }\n",
       "\n",
       "    .dataframe thead th {\n",
       "        text-align: right;\n",
       "    }\n",
       "</style>\n",
       "<table border=\"1\" class=\"dataframe\">\n",
       "  <thead>\n",
       "    <tr style=\"text-align: right;\">\n",
       "      <th></th>\n",
       "      <th>userId</th>\n",
       "      <th>movieId</th>\n",
       "      <th>rating</th>\n",
       "      <th>timestamp</th>\n",
       "      <th>title</th>\n",
       "      <th>genres</th>\n",
       "    </tr>\n",
       "  </thead>\n",
       "  <tbody>\n",
       "    <tr>\n",
       "      <th>0</th>\n",
       "      <td>1</td>\n",
       "      <td>16</td>\n",
       "      <td>4.0</td>\n",
       "      <td>1217897793</td>\n",
       "      <td>Casino (1995)</td>\n",
       "      <td>Crime</td>\n",
       "    </tr>\n",
       "    <tr>\n",
       "      <th>1</th>\n",
       "      <td>1</td>\n",
       "      <td>16</td>\n",
       "      <td>4.0</td>\n",
       "      <td>1217897793</td>\n",
       "      <td>Casino (1995)</td>\n",
       "      <td>Drama</td>\n",
       "    </tr>\n",
       "    <tr>\n",
       "      <th>2</th>\n",
       "      <td>9</td>\n",
       "      <td>16</td>\n",
       "      <td>4.0</td>\n",
       "      <td>842686699</td>\n",
       "      <td>Casino (1995)</td>\n",
       "      <td>Crime</td>\n",
       "    </tr>\n",
       "    <tr>\n",
       "      <th>3</th>\n",
       "      <td>9</td>\n",
       "      <td>16</td>\n",
       "      <td>4.0</td>\n",
       "      <td>842686699</td>\n",
       "      <td>Casino (1995)</td>\n",
       "      <td>Drama</td>\n",
       "    </tr>\n",
       "    <tr>\n",
       "      <th>4</th>\n",
       "      <td>12</td>\n",
       "      <td>16</td>\n",
       "      <td>1.5</td>\n",
       "      <td>1144396284</td>\n",
       "      <td>Casino (1995)</td>\n",
       "      <td>Crime</td>\n",
       "    </tr>\n",
       "    <tr>\n",
       "      <th>...</th>\n",
       "      <td>...</td>\n",
       "      <td>...</td>\n",
       "      <td>...</td>\n",
       "      <td>...</td>\n",
       "      <td>...</td>\n",
       "      <td>...</td>\n",
       "    </tr>\n",
       "    <tr>\n",
       "      <th>281892</th>\n",
       "      <td>668</td>\n",
       "      <td>140098</td>\n",
       "      <td>2.5</td>\n",
       "      <td>1450415424</td>\n",
       "      <td>Runoff (2015)</td>\n",
       "      <td>Drama</td>\n",
       "    </tr>\n",
       "    <tr>\n",
       "      <th>281893</th>\n",
       "      <td>668</td>\n",
       "      <td>140816</td>\n",
       "      <td>2.5</td>\n",
       "      <td>1443288791</td>\n",
       "      <td>Tangerine (2015)</td>\n",
       "      <td>Comedy</td>\n",
       "    </tr>\n",
       "    <tr>\n",
       "      <th>281894</th>\n",
       "      <td>668</td>\n",
       "      <td>140816</td>\n",
       "      <td>2.5</td>\n",
       "      <td>1443288791</td>\n",
       "      <td>Tangerine (2015)</td>\n",
       "      <td>Drama</td>\n",
       "    </tr>\n",
       "    <tr>\n",
       "      <th>281895</th>\n",
       "      <td>668</td>\n",
       "      <td>142488</td>\n",
       "      <td>4.0</td>\n",
       "      <td>1451535844</td>\n",
       "      <td>Spotlight (2015)</td>\n",
       "      <td>Thriller</td>\n",
       "    </tr>\n",
       "    <tr>\n",
       "      <th>281896</th>\n",
       "      <td>668</td>\n",
       "      <td>142507</td>\n",
       "      <td>3.5</td>\n",
       "      <td>1451535889</td>\n",
       "      <td>Pawn Sacrifice (2015)</td>\n",
       "      <td>Drama</td>\n",
       "    </tr>\n",
       "  </tbody>\n",
       "</table>\n",
       "<p>281897 rows × 6 columns</p>\n",
       "</div>"
      ],
      "text/plain": [
       "        userId  movieId  rating   timestamp                  title    genres\n",
       "0            1       16     4.0  1217897793          Casino (1995)     Crime\n",
       "1            1       16     4.0  1217897793          Casino (1995)     Drama\n",
       "2            9       16     4.0   842686699          Casino (1995)     Crime\n",
       "3            9       16     4.0   842686699          Casino (1995)     Drama\n",
       "4           12       16     1.5  1144396284          Casino (1995)     Crime\n",
       "...        ...      ...     ...         ...                    ...       ...\n",
       "281892     668   140098     2.5  1450415424          Runoff (2015)     Drama\n",
       "281893     668   140816     2.5  1443288791       Tangerine (2015)    Comedy\n",
       "281894     668   140816     2.5  1443288791       Tangerine (2015)     Drama\n",
       "281895     668   142488     4.0  1451535844       Spotlight (2015)  Thriller\n",
       "281896     668   142507     3.5  1451535889  Pawn Sacrifice (2015)     Drama\n",
       "\n",
       "[281897 rows x 6 columns]"
      ]
     },
     "execution_count": 152,
     "metadata": {},
     "output_type": "execute_result"
    }
   ],
   "source": [
    "merged_data=pd.merge(ratings,movies2,on=['movieId'],how='inner')\n",
    "merged_data"
   ]
  },
  {
   "cell_type": "code",
   "execution_count": 153,
   "id": "3e9582f0-ba16-4732-b76b-7afaac8e28b8",
   "metadata": {},
   "outputs": [
    {
     "data": {
      "text/html": [
       "<div>\n",
       "<style scoped>\n",
       "    .dataframe tbody tr th:only-of-type {\n",
       "        vertical-align: middle;\n",
       "    }\n",
       "\n",
       "    .dataframe tbody tr th {\n",
       "        vertical-align: top;\n",
       "    }\n",
       "\n",
       "    .dataframe thead tr th {\n",
       "        text-align: left;\n",
       "    }\n",
       "</style>\n",
       "<table border=\"1\" class=\"dataframe\">\n",
       "  <thead>\n",
       "    <tr>\n",
       "      <th></th>\n",
       "      <th>genres</th>\n",
       "      <th>title</th>\n",
       "      <th colspan=\"2\" halign=\"left\">rating</th>\n",
       "    </tr>\n",
       "    <tr>\n",
       "      <th></th>\n",
       "      <th></th>\n",
       "      <th></th>\n",
       "      <th>mean</th>\n",
       "      <th>size</th>\n",
       "    </tr>\n",
       "  </thead>\n",
       "  <tbody>\n",
       "    <tr>\n",
       "      <th>0</th>\n",
       "      <td>Action</td>\n",
       "      <td>'71 (2014)</td>\n",
       "      <td>3.500000</td>\n",
       "      <td>1</td>\n",
       "    </tr>\n",
       "    <tr>\n",
       "      <th>1</th>\n",
       "      <td>Action</td>\n",
       "      <td>'Hellboy': The Seeds of Creation (2004)</td>\n",
       "      <td>3.000000</td>\n",
       "      <td>1</td>\n",
       "    </tr>\n",
       "    <tr>\n",
       "      <th>2</th>\n",
       "      <td>Action</td>\n",
       "      <td>10 to Midnight (1983)</td>\n",
       "      <td>2.500000</td>\n",
       "      <td>1</td>\n",
       "    </tr>\n",
       "    <tr>\n",
       "      <th>3</th>\n",
       "      <td>Action</td>\n",
       "      <td>12 Rounds (2009)</td>\n",
       "      <td>2.875000</td>\n",
       "      <td>4</td>\n",
       "    </tr>\n",
       "    <tr>\n",
       "      <th>4</th>\n",
       "      <td>Action</td>\n",
       "      <td>13 Assassins (Jûsan-nin no shikaku) (2010)</td>\n",
       "      <td>3.500000</td>\n",
       "      <td>5</td>\n",
       "    </tr>\n",
       "    <tr>\n",
       "      <th>...</th>\n",
       "      <td>...</td>\n",
       "      <td>...</td>\n",
       "      <td>...</td>\n",
       "      <td>...</td>\n",
       "    </tr>\n",
       "    <tr>\n",
       "      <th>23093</th>\n",
       "      <td>Western</td>\n",
       "      <td>Wyatt Earp (1994)</td>\n",
       "      <td>3.200000</td>\n",
       "      <td>30</td>\n",
       "    </tr>\n",
       "    <tr>\n",
       "      <th>23094</th>\n",
       "      <td>Western</td>\n",
       "      <td>Young Guns (1988)</td>\n",
       "      <td>3.375000</td>\n",
       "      <td>36</td>\n",
       "    </tr>\n",
       "    <tr>\n",
       "      <th>23095</th>\n",
       "      <td>Western</td>\n",
       "      <td>Young Guns II (1990)</td>\n",
       "      <td>3.083333</td>\n",
       "      <td>12</td>\n",
       "    </tr>\n",
       "    <tr>\n",
       "      <th>23096</th>\n",
       "      <td>Western</td>\n",
       "      <td>Young Ones (2014)</td>\n",
       "      <td>2.000000</td>\n",
       "      <td>1</td>\n",
       "    </tr>\n",
       "    <tr>\n",
       "      <th>23097</th>\n",
       "      <td>Western</td>\n",
       "      <td>¡Three Amigos! (1986)</td>\n",
       "      <td>3.012500</td>\n",
       "      <td>40</td>\n",
       "    </tr>\n",
       "  </tbody>\n",
       "</table>\n",
       "<p>23098 rows × 4 columns</p>\n",
       "</div>"
      ],
      "text/plain": [
       "        genres                                       title    rating     \n",
       "                                                                mean size\n",
       "0       Action                                  '71 (2014)  3.500000    1\n",
       "1       Action     'Hellboy': The Seeds of Creation (2004)  3.000000    1\n",
       "2       Action                       10 to Midnight (1983)  2.500000    1\n",
       "3       Action                            12 Rounds (2009)  2.875000    4\n",
       "4       Action  13 Assassins (Jûsan-nin no shikaku) (2010)  3.500000    5\n",
       "...        ...                                         ...       ...  ...\n",
       "23093  Western                           Wyatt Earp (1994)  3.200000   30\n",
       "23094  Western                           Young Guns (1988)  3.375000   36\n",
       "23095  Western                        Young Guns II (1990)  3.083333   12\n",
       "23096  Western                           Young Ones (2014)  2.000000    1\n",
       "23097  Western                       ¡Three Amigos! (1986)  3.012500   40\n",
       "\n",
       "[23098 rows x 4 columns]"
      ]
     },
     "execution_count": 153,
     "metadata": {},
     "output_type": "execute_result"
    }
   ],
   "source": [
    "merged_data.groupby(['genres','title']).agg({'rating':['mean','size']}).reset_index()"
   ]
  },
  {
   "cell_type": "code",
   "execution_count": 154,
   "id": "fa17c93b-f3cc-4997-8819-47b44d6bc007",
   "metadata": {},
   "outputs": [
    {
     "data": {
      "text/html": [
       "<div>\n",
       "<style scoped>\n",
       "    .dataframe tbody tr th:only-of-type {\n",
       "        vertical-align: middle;\n",
       "    }\n",
       "\n",
       "    .dataframe tbody tr th {\n",
       "        vertical-align: top;\n",
       "    }\n",
       "\n",
       "    .dataframe thead th {\n",
       "        text-align: right;\n",
       "    }\n",
       "</style>\n",
       "<table border=\"1\" class=\"dataframe\">\n",
       "  <thead>\n",
       "    <tr style=\"text-align: right;\">\n",
       "      <th></th>\n",
       "      <th>Genres</th>\n",
       "      <th>Title</th>\n",
       "      <th>Average Ratings</th>\n",
       "      <th>Number of Ratings</th>\n",
       "    </tr>\n",
       "  </thead>\n",
       "  <tbody>\n",
       "    <tr>\n",
       "      <th>0</th>\n",
       "      <td>Action</td>\n",
       "      <td>'71 (2014)</td>\n",
       "      <td>3.500000</td>\n",
       "      <td>1</td>\n",
       "    </tr>\n",
       "    <tr>\n",
       "      <th>1</th>\n",
       "      <td>Action</td>\n",
       "      <td>'Hellboy': The Seeds of Creation (2004)</td>\n",
       "      <td>3.000000</td>\n",
       "      <td>1</td>\n",
       "    </tr>\n",
       "    <tr>\n",
       "      <th>2</th>\n",
       "      <td>Action</td>\n",
       "      <td>10 to Midnight (1983)</td>\n",
       "      <td>2.500000</td>\n",
       "      <td>1</td>\n",
       "    </tr>\n",
       "    <tr>\n",
       "      <th>3</th>\n",
       "      <td>Action</td>\n",
       "      <td>12 Rounds (2009)</td>\n",
       "      <td>2.875000</td>\n",
       "      <td>4</td>\n",
       "    </tr>\n",
       "    <tr>\n",
       "      <th>4</th>\n",
       "      <td>Action</td>\n",
       "      <td>13 Assassins (Jûsan-nin no shikaku) (2010)</td>\n",
       "      <td>3.500000</td>\n",
       "      <td>5</td>\n",
       "    </tr>\n",
       "    <tr>\n",
       "      <th>...</th>\n",
       "      <td>...</td>\n",
       "      <td>...</td>\n",
       "      <td>...</td>\n",
       "      <td>...</td>\n",
       "    </tr>\n",
       "    <tr>\n",
       "      <th>23093</th>\n",
       "      <td>Western</td>\n",
       "      <td>Wyatt Earp (1994)</td>\n",
       "      <td>3.200000</td>\n",
       "      <td>30</td>\n",
       "    </tr>\n",
       "    <tr>\n",
       "      <th>23094</th>\n",
       "      <td>Western</td>\n",
       "      <td>Young Guns (1988)</td>\n",
       "      <td>3.375000</td>\n",
       "      <td>36</td>\n",
       "    </tr>\n",
       "    <tr>\n",
       "      <th>23095</th>\n",
       "      <td>Western</td>\n",
       "      <td>Young Guns II (1990)</td>\n",
       "      <td>3.083333</td>\n",
       "      <td>12</td>\n",
       "    </tr>\n",
       "    <tr>\n",
       "      <th>23096</th>\n",
       "      <td>Western</td>\n",
       "      <td>Young Ones (2014)</td>\n",
       "      <td>2.000000</td>\n",
       "      <td>1</td>\n",
       "    </tr>\n",
       "    <tr>\n",
       "      <th>23097</th>\n",
       "      <td>Western</td>\n",
       "      <td>¡Three Amigos! (1986)</td>\n",
       "      <td>3.012500</td>\n",
       "      <td>40</td>\n",
       "    </tr>\n",
       "  </tbody>\n",
       "</table>\n",
       "<p>23098 rows × 4 columns</p>\n",
       "</div>"
      ],
      "text/plain": [
       "        Genres                                       Title  Average Ratings  \\\n",
       "0       Action                                  '71 (2014)         3.500000   \n",
       "1       Action     'Hellboy': The Seeds of Creation (2004)         3.000000   \n",
       "2       Action                       10 to Midnight (1983)         2.500000   \n",
       "3       Action                            12 Rounds (2009)         2.875000   \n",
       "4       Action  13 Assassins (Jûsan-nin no shikaku) (2010)         3.500000   \n",
       "...        ...                                         ...              ...   \n",
       "23093  Western                           Wyatt Earp (1994)         3.200000   \n",
       "23094  Western                           Young Guns (1988)         3.375000   \n",
       "23095  Western                        Young Guns II (1990)         3.083333   \n",
       "23096  Western                           Young Ones (2014)         2.000000   \n",
       "23097  Western                       ¡Three Amigos! (1986)         3.012500   \n",
       "\n",
       "       Number of Ratings  \n",
       "0                      1  \n",
       "1                      1  \n",
       "2                      1  \n",
       "3                      4  \n",
       "4                      5  \n",
       "...                  ...  \n",
       "23093                 30  \n",
       "23094                 36  \n",
       "23095                 12  \n",
       "23096                  1  \n",
       "23097                 40  \n",
       "\n",
       "[23098 rows x 4 columns]"
      ]
     },
     "execution_count": 154,
     "metadata": {},
     "output_type": "execute_result"
    }
   ],
   "source": [
    "popularity=merged_data.groupby(['genres','title']).agg({'rating':['mean','size']}).reset_index()\n",
    "popularity.columns=[\"Genres\",\"Title\",\"Average Ratings\",\"Number of Ratings\"]\n",
    "popularity"
   ]
  },
  {
   "cell_type": "code",
   "execution_count": 155,
   "id": "6c92e335-64cd-430d-85f9-61d87107ef04",
   "metadata": {},
   "outputs": [
    {
     "data": {
      "text/html": [
       "<div>\n",
       "<style scoped>\n",
       "    .dataframe tbody tr th:only-of-type {\n",
       "        vertical-align: middle;\n",
       "    }\n",
       "\n",
       "    .dataframe tbody tr th {\n",
       "        vertical-align: top;\n",
       "    }\n",
       "\n",
       "    .dataframe thead th {\n",
       "        text-align: right;\n",
       "    }\n",
       "</style>\n",
       "<table border=\"1\" class=\"dataframe\">\n",
       "  <thead>\n",
       "    <tr style=\"text-align: right;\">\n",
       "      <th></th>\n",
       "      <th>Genres</th>\n",
       "      <th>Title</th>\n",
       "      <th>Average Ratings</th>\n",
       "      <th>Number of Ratings</th>\n",
       "    </tr>\n",
       "  </thead>\n",
       "  <tbody>\n",
       "    <tr>\n",
       "      <th>13</th>\n",
       "      <td>Action</td>\n",
       "      <td>28 Days Later (2002)</td>\n",
       "      <td>3.932836</td>\n",
       "      <td>67</td>\n",
       "    </tr>\n",
       "    <tr>\n",
       "      <th>20</th>\n",
       "      <td>Action</td>\n",
       "      <td>300 (2007)</td>\n",
       "      <td>3.577922</td>\n",
       "      <td>77</td>\n",
       "    </tr>\n",
       "    <tr>\n",
       "      <th>43</th>\n",
       "      <td>Action</td>\n",
       "      <td>Abyss, The (1989)</td>\n",
       "      <td>3.681319</td>\n",
       "      <td>91</td>\n",
       "    </tr>\n",
       "    <tr>\n",
       "      <th>62</th>\n",
       "      <td>Action</td>\n",
       "      <td>Air Force One (1997)</td>\n",
       "      <td>3.439024</td>\n",
       "      <td>82</td>\n",
       "    </tr>\n",
       "    <tr>\n",
       "      <th>71</th>\n",
       "      <td>Action</td>\n",
       "      <td>Aliens (1986)</td>\n",
       "      <td>4.146497</td>\n",
       "      <td>157</td>\n",
       "    </tr>\n",
       "    <tr>\n",
       "      <th>...</th>\n",
       "      <td>...</td>\n",
       "      <td>...</td>\n",
       "      <td>...</td>\n",
       "      <td>...</td>\n",
       "    </tr>\n",
       "    <tr>\n",
       "      <th>1638</th>\n",
       "      <td>Action</td>\n",
       "      <td>V for Vendetta (2006)</td>\n",
       "      <td>4.015957</td>\n",
       "      <td>94</td>\n",
       "    </tr>\n",
       "    <tr>\n",
       "      <th>1676</th>\n",
       "      <td>Action</td>\n",
       "      <td>Waterworld (1995)</td>\n",
       "      <td>2.934959</td>\n",
       "      <td>123</td>\n",
       "    </tr>\n",
       "    <tr>\n",
       "      <th>1692</th>\n",
       "      <td>Action</td>\n",
       "      <td>Wild Wild West (1999)</td>\n",
       "      <td>2.164179</td>\n",
       "      <td>67</td>\n",
       "    </tr>\n",
       "    <tr>\n",
       "      <th>1707</th>\n",
       "      <td>Action</td>\n",
       "      <td>X-Men (2000)</td>\n",
       "      <td>3.557692</td>\n",
       "      <td>130</td>\n",
       "    </tr>\n",
       "    <tr>\n",
       "      <th>1712</th>\n",
       "      <td>Action</td>\n",
       "      <td>X2: X-Men United (2003)</td>\n",
       "      <td>3.567073</td>\n",
       "      <td>82</td>\n",
       "    </tr>\n",
       "  </tbody>\n",
       "</table>\n",
       "<p>164 rows × 4 columns</p>\n",
       "</div>"
      ],
      "text/plain": [
       "      Genres                    Title  Average Ratings  Number of Ratings\n",
       "13    Action     28 Days Later (2002)         3.932836                 67\n",
       "20    Action               300 (2007)         3.577922                 77\n",
       "43    Action        Abyss, The (1989)         3.681319                 91\n",
       "62    Action     Air Force One (1997)         3.439024                 82\n",
       "71    Action            Aliens (1986)         4.146497                157\n",
       "...      ...                      ...              ...                ...\n",
       "1638  Action    V for Vendetta (2006)         4.015957                 94\n",
       "1676  Action        Waterworld (1995)         2.934959                123\n",
       "1692  Action    Wild Wild West (1999)         2.164179                 67\n",
       "1707  Action             X-Men (2000)         3.557692                130\n",
       "1712  Action  X2: X-Men United (2003)         3.567073                 82\n",
       "\n",
       "[164 rows x 4 columns]"
      ]
     },
     "execution_count": 155,
     "metadata": {},
     "output_type": "execute_result"
    }
   ],
   "source": [
    "#genre+actiom\n",
    "#threshold=50\n",
    "\n",
    "popularity[(popularity[\"Genres\"]=='Action')&(popularity['Number of Ratings']>=50)]"
   ]
  },
  {
   "cell_type": "code",
   "execution_count": 156,
   "id": "fc5136d4-c9ee-495a-a20f-2512df971451",
   "metadata": {},
   "outputs": [
    {
     "data": {
      "text/html": [
       "<div>\n",
       "<style scoped>\n",
       "    .dataframe tbody tr th:only-of-type {\n",
       "        vertical-align: middle;\n",
       "    }\n",
       "\n",
       "    .dataframe tbody tr th {\n",
       "        vertical-align: top;\n",
       "    }\n",
       "\n",
       "    .dataframe thead th {\n",
       "        text-align: right;\n",
       "    }\n",
       "</style>\n",
       "<table border=\"1\" class=\"dataframe\">\n",
       "  <thead>\n",
       "    <tr style=\"text-align: right;\">\n",
       "      <th></th>\n",
       "      <th>Genres</th>\n",
       "      <th>Title</th>\n",
       "      <th>Average Ratings</th>\n",
       "      <th>Number of Ratings</th>\n",
       "    </tr>\n",
       "  </thead>\n",
       "  <tbody>\n",
       "    <tr>\n",
       "      <th>1179</th>\n",
       "      <td>Action</td>\n",
       "      <td>Princess Mononoke (Mononoke-hime) (1997)</td>\n",
       "      <td>4.384615</td>\n",
       "      <td>52</td>\n",
       "    </tr>\n",
       "    <tr>\n",
       "      <th>1076</th>\n",
       "      <td>Action</td>\n",
       "      <td>North by Northwest (1959)</td>\n",
       "      <td>4.273973</td>\n",
       "      <td>73</td>\n",
       "    </tr>\n",
       "    <tr>\n",
       "      <th>975</th>\n",
       "      <td>Action</td>\n",
       "      <td>Matrix, The (1999)</td>\n",
       "      <td>4.264368</td>\n",
       "      <td>261</td>\n",
       "    </tr>\n",
       "    <tr>\n",
       "      <th>1433</th>\n",
       "      <td>Action</td>\n",
       "      <td>Star Wars: Episode V - The Empire Strikes Back...</td>\n",
       "      <td>4.228070</td>\n",
       "      <td>228</td>\n",
       "    </tr>\n",
       "    <tr>\n",
       "      <th>1331</th>\n",
       "      <td>Action</td>\n",
       "      <td>Seven Samurai (Shichinin no samurai) (1954)</td>\n",
       "      <td>4.217742</td>\n",
       "      <td>62</td>\n",
       "    </tr>\n",
       "    <tr>\n",
       "      <th>1199</th>\n",
       "      <td>Action</td>\n",
       "      <td>Raiders of the Lost Ark (Indiana Jones and the...</td>\n",
       "      <td>4.212054</td>\n",
       "      <td>224</td>\n",
       "    </tr>\n",
       "    <tr>\n",
       "      <th>747</th>\n",
       "      <td>Action</td>\n",
       "      <td>Inception (2010)</td>\n",
       "      <td>4.189320</td>\n",
       "      <td>103</td>\n",
       "    </tr>\n",
       "  </tbody>\n",
       "</table>\n",
       "</div>"
      ],
      "text/plain": [
       "      Genres                                              Title  \\\n",
       "1179  Action           Princess Mononoke (Mononoke-hime) (1997)   \n",
       "1076  Action                          North by Northwest (1959)   \n",
       "975   Action                                 Matrix, The (1999)   \n",
       "1433  Action  Star Wars: Episode V - The Empire Strikes Back...   \n",
       "1331  Action        Seven Samurai (Shichinin no samurai) (1954)   \n",
       "1199  Action  Raiders of the Lost Ark (Indiana Jones and the...   \n",
       "747   Action                                   Inception (2010)   \n",
       "\n",
       "      Average Ratings  Number of Ratings  \n",
       "1179         4.384615                 52  \n",
       "1076         4.273973                 73  \n",
       "975          4.264368                261  \n",
       "1433         4.228070                228  \n",
       "1331         4.217742                 62  \n",
       "1199         4.212054                224  \n",
       "747          4.189320                103  "
      ]
     },
     "execution_count": 156,
     "metadata": {},
     "output_type": "execute_result"
    }
   ],
   "source": [
    "#genre+actiom\n",
    "#threshold=50\n",
    "#top=7\n",
    "popularity[(popularity[\"Genres\"]=='Action')&(popularity['Number of Ratings']>=50)].sort_values(by='Average Ratings',ascending=False).head(7)"
   ]
  },
  {
   "cell_type": "code",
   "execution_count": 192,
   "id": "8475b1e7-ee36-40dc-b52d-041a03f8c56c",
   "metadata": {},
   "outputs": [],
   "source": [
    "def TopNPopularMovies(genre,threshold,topN):\n",
    "    popularity=merged_data.groupby(['genres','title']).agg({'rating':['mean','size']}).reset_index()\n",
    "    popularity.columns=[\"Genres\",\"Title\",\"Average Ratings\",\"Number of Ratings\"]\n",
    "\n",
    "    topNrecommendations=popularity[(popularity['Genres']==genre)&(popularity['Number of Ratings']>=threshold)].sort_values(by='Average Ratings',ascending=False).head(topN)\n",
    "\n",
    "#outputb\n",
    "    topNrecommendations['Sno.']=range(1,len(topNrecommendations)+1)\n",
    "    topNrecommendations.index=range(0,len(topNrecommendations)+1)\n",
    "    topNrecommendations.columns=['Genres','Movie Title','Average Movie Rating','Number of Reviews','Sno.']\n",
    "    return topNrecommendations[['Sno.','Movie Title','Average Movie Rating','Number of Reviews']]"
   ]
  },
  {
   "cell_type": "code",
   "execution_count": 204,
   "id": "65172136-d167-4683-a86b-ac3fb81c9ebc",
   "metadata": {},
   "outputs": [],
   "source": [
    "def TopNPopularMovies(genre, threshold, topN):\n",
    "    popularity = merged_data.groupby(['genres', 'title']).agg({'rating': ['mean', 'size']}).reset_index()\n",
    "    popularity.columns = [\"Genres\", \"Title\", \"Average Ratings\", \"Number of Ratings\"]\n",
    "\n",
    "    topNrecommendations = popularity[(popularity['Genres'] == genre) & (popularity['Number of Ratings'] >= threshold)].sort_values(by='Average Ratings', ascending=False).head(topN)\n",
    "\n",
    "    # Output\n",
    "    topNrecommendations['Sno.'] = range(1, len(topNrecommendations) + 1)\n",
    "    \n",
    "    # topNrecommendations.index = range(0, len(topNrecommendations) + 1)\n",
    "    topNrecommendations.columns = ['Genres', 'Movie Title', 'Average Movie Rating', 'Number of Reviews', 'Sno.']\n",
    "    return topNrecommendations[['Sno.', 'Movie Title', 'Average Movie Rating', 'Number of Reviews']]\n"
   ]
  },
  {
   "cell_type": "code",
   "execution_count": 205,
   "id": "cbe59985-6a25-4cd7-b133-aa6b4e5ed4db",
   "metadata": {},
   "outputs": [
    {
     "data": {
      "text/html": [
       "<div>\n",
       "<style scoped>\n",
       "    .dataframe tbody tr th:only-of-type {\n",
       "        vertical-align: middle;\n",
       "    }\n",
       "\n",
       "    .dataframe tbody tr th {\n",
       "        vertical-align: top;\n",
       "    }\n",
       "\n",
       "    .dataframe thead th {\n",
       "        text-align: right;\n",
       "    }\n",
       "</style>\n",
       "<table border=\"1\" class=\"dataframe\">\n",
       "  <thead>\n",
       "    <tr style=\"text-align: right;\">\n",
       "      <th></th>\n",
       "      <th>Sno.</th>\n",
       "      <th>Movie Title</th>\n",
       "      <th>Average Movie Rating</th>\n",
       "      <th>Number of Reviews</th>\n",
       "    </tr>\n",
       "  </thead>\n",
       "  <tbody>\n",
       "  </tbody>\n",
       "</table>\n",
       "</div>"
      ],
      "text/plain": [
       "Empty DataFrame\n",
       "Columns: [Sno., Movie Title, Average Movie Rating, Number of Reviews]\n",
       "Index: []"
      ]
     },
     "execution_count": 205,
     "metadata": {},
     "output_type": "execute_result"
    }
   ],
   "source": [
    "#part4\n",
    "genre='adventure'\n",
    "threshold=50\n",
    "topN=8\n",
    "TopNPopularMovies(genre=genre,threshold=threshold,topN=topN)"
   ]
  },
  {
   "cell_type": "code",
   "execution_count": 159,
   "id": "4acb89d8-3a5d-4da3-b330-0fe374a2a01d",
   "metadata": {},
   "outputs": [
    {
     "data": {
      "text/html": [
       "<div>\n",
       "<style scoped>\n",
       "    .dataframe tbody tr th:only-of-type {\n",
       "        vertical-align: middle;\n",
       "    }\n",
       "\n",
       "    .dataframe tbody tr th {\n",
       "        vertical-align: top;\n",
       "    }\n",
       "\n",
       "    .dataframe thead th {\n",
       "        text-align: right;\n",
       "    }\n",
       "</style>\n",
       "<table border=\"1\" class=\"dataframe\">\n",
       "  <thead>\n",
       "    <tr style=\"text-align: right;\">\n",
       "      <th></th>\n",
       "      <th>movieId</th>\n",
       "      <th>title</th>\n",
       "      <th>genres</th>\n",
       "    </tr>\n",
       "  </thead>\n",
       "  <tbody>\n",
       "    <tr>\n",
       "      <th>0</th>\n",
       "      <td>1</td>\n",
       "      <td>Toy Story (1995)</td>\n",
       "      <td>Adventure</td>\n",
       "    </tr>\n",
       "    <tr>\n",
       "      <th>0</th>\n",
       "      <td>1</td>\n",
       "      <td>Toy Story (1995)</td>\n",
       "      <td>Animation</td>\n",
       "    </tr>\n",
       "    <tr>\n",
       "      <th>0</th>\n",
       "      <td>1</td>\n",
       "      <td>Toy Story (1995)</td>\n",
       "      <td>Children</td>\n",
       "    </tr>\n",
       "    <tr>\n",
       "      <th>0</th>\n",
       "      <td>1</td>\n",
       "      <td>Toy Story (1995)</td>\n",
       "      <td>Comedy</td>\n",
       "    </tr>\n",
       "    <tr>\n",
       "      <th>0</th>\n",
       "      <td>1</td>\n",
       "      <td>Toy Story (1995)</td>\n",
       "      <td>Fantasy</td>\n",
       "    </tr>\n",
       "  </tbody>\n",
       "</table>\n",
       "</div>"
      ],
      "text/plain": [
       "   movieId             title     genres\n",
       "0        1  Toy Story (1995)  Adventure\n",
       "0        1  Toy Story (1995)  Animation\n",
       "0        1  Toy Story (1995)   Children\n",
       "0        1  Toy Story (1995)     Comedy\n",
       "0        1  Toy Story (1995)    Fantasy"
      ]
     },
     "execution_count": 159,
     "metadata": {},
     "output_type": "execute_result"
    }
   ],
   "source": [
    "movies2.head()"
   ]
  },
  {
   "cell_type": "code",
   "execution_count": 206,
   "id": "011eb5dc-24cf-4101-99ce-832e858f68bf",
   "metadata": {},
   "outputs": [],
   "source": [
    "#movies3=pd.read_csv(\"movies.csv\")"
   ]
  },
  {
   "cell_type": "code",
   "execution_count": 214,
   "id": "7c3ca22b-c6a2-403f-b6d0-2e30559d08fa",
   "metadata": {},
   "outputs": [],
   "source": [
    "movies3=movies2.groupby('title').agg({\"genres\":lambda x:\" \".join(list(x))})"
   ]
  },
  {
   "cell_type": "code",
   "execution_count": 215,
   "id": "70ffb26d-23bb-4495-b992-077fa4052023",
   "metadata": {},
   "outputs": [
    {
     "data": {
      "text/html": [
       "<div>\n",
       "<style scoped>\n",
       "    .dataframe tbody tr th:only-of-type {\n",
       "        vertical-align: middle;\n",
       "    }\n",
       "\n",
       "    .dataframe tbody tr th {\n",
       "        vertical-align: top;\n",
       "    }\n",
       "\n",
       "    .dataframe thead th {\n",
       "        text-align: right;\n",
       "    }\n",
       "</style>\n",
       "<table border=\"1\" class=\"dataframe\">\n",
       "  <thead>\n",
       "    <tr style=\"text-align: right;\">\n",
       "      <th></th>\n",
       "      <th>genres</th>\n",
       "    </tr>\n",
       "    <tr>\n",
       "      <th>title</th>\n",
       "      <th></th>\n",
       "    </tr>\n",
       "  </thead>\n",
       "  <tbody>\n",
       "    <tr>\n",
       "      <th>'71 (2014)</th>\n",
       "      <td>Action Drama Thriller War</td>\n",
       "    </tr>\n",
       "    <tr>\n",
       "      <th>'Hellboy': The Seeds of Creation (2004)</th>\n",
       "      <td>Action Adventure Comedy Documentary Fantasy</td>\n",
       "    </tr>\n",
       "    <tr>\n",
       "      <th>'Round Midnight (1986)</th>\n",
       "      <td>Drama Musical</td>\n",
       "    </tr>\n",
       "    <tr>\n",
       "      <th>'Til There Was You (1997)</th>\n",
       "      <td>Drama Romance</td>\n",
       "    </tr>\n",
       "    <tr>\n",
       "      <th>'burbs, The (1989)</th>\n",
       "      <td>Comedy</td>\n",
       "    </tr>\n",
       "  </tbody>\n",
       "</table>\n",
       "</div>"
      ],
      "text/plain": [
       "                                                                              genres\n",
       "title                                                                               \n",
       "'71 (2014)                                                 Action Drama Thriller War\n",
       "'Hellboy': The Seeds of Creation (2004)  Action Adventure Comedy Documentary Fantasy\n",
       "'Round Midnight (1986)                                                 Drama Musical\n",
       "'Til There Was You (1997)                                              Drama Romance\n",
       "'burbs, The (1989)                                                            Comedy"
      ]
     },
     "execution_count": 215,
     "metadata": {},
     "output_type": "execute_result"
    }
   ],
   "source": [
    "movies3.head()"
   ]
  },
  {
   "cell_type": "code",
   "execution_count": 216,
   "id": "3e125fda-5673-48f3-ba4f-7dd5f15c9fbb",
   "metadata": {},
   "outputs": [],
   "source": [
    "from sklearn.feature_extraction.text import TfidfVectorizer"
   ]
  },
  {
   "cell_type": "code",
   "execution_count": 217,
   "id": "119878bf-301b-41f2-85db-79d4c12f5076",
   "metadata": {},
   "outputs": [
    {
     "data": {
      "text/html": [
       "<style>#sk-container-id-4 {color: black;}#sk-container-id-4 pre{padding: 0;}#sk-container-id-4 div.sk-toggleable {background-color: white;}#sk-container-id-4 label.sk-toggleable__label {cursor: pointer;display: block;width: 100%;margin-bottom: 0;padding: 0.3em;box-sizing: border-box;text-align: center;}#sk-container-id-4 label.sk-toggleable__label-arrow:before {content: \"▸\";float: left;margin-right: 0.25em;color: #696969;}#sk-container-id-4 label.sk-toggleable__label-arrow:hover:before {color: black;}#sk-container-id-4 div.sk-estimator:hover label.sk-toggleable__label-arrow:before {color: black;}#sk-container-id-4 div.sk-toggleable__content {max-height: 0;max-width: 0;overflow: hidden;text-align: left;background-color: #f0f8ff;}#sk-container-id-4 div.sk-toggleable__content pre {margin: 0.2em;color: black;border-radius: 0.25em;background-color: #f0f8ff;}#sk-container-id-4 input.sk-toggleable__control:checked~div.sk-toggleable__content {max-height: 200px;max-width: 100%;overflow: auto;}#sk-container-id-4 input.sk-toggleable__control:checked~label.sk-toggleable__label-arrow:before {content: \"▾\";}#sk-container-id-4 div.sk-estimator input.sk-toggleable__control:checked~label.sk-toggleable__label {background-color: #d4ebff;}#sk-container-id-4 div.sk-label input.sk-toggleable__control:checked~label.sk-toggleable__label {background-color: #d4ebff;}#sk-container-id-4 input.sk-hidden--visually {border: 0;clip: rect(1px 1px 1px 1px);clip: rect(1px, 1px, 1px, 1px);height: 1px;margin: -1px;overflow: hidden;padding: 0;position: absolute;width: 1px;}#sk-container-id-4 div.sk-estimator {font-family: monospace;background-color: #f0f8ff;border: 1px dotted black;border-radius: 0.25em;box-sizing: border-box;margin-bottom: 0.5em;}#sk-container-id-4 div.sk-estimator:hover {background-color: #d4ebff;}#sk-container-id-4 div.sk-parallel-item::after {content: \"\";width: 100%;border-bottom: 1px solid gray;flex-grow: 1;}#sk-container-id-4 div.sk-label:hover label.sk-toggleable__label {background-color: #d4ebff;}#sk-container-id-4 div.sk-serial::before {content: \"\";position: absolute;border-left: 1px solid gray;box-sizing: border-box;top: 0;bottom: 0;left: 50%;z-index: 0;}#sk-container-id-4 div.sk-serial {display: flex;flex-direction: column;align-items: center;background-color: white;padding-right: 0.2em;padding-left: 0.2em;position: relative;}#sk-container-id-4 div.sk-item {position: relative;z-index: 1;}#sk-container-id-4 div.sk-parallel {display: flex;align-items: stretch;justify-content: center;background-color: white;position: relative;}#sk-container-id-4 div.sk-item::before, #sk-container-id-4 div.sk-parallel-item::before {content: \"\";position: absolute;border-left: 1px solid gray;box-sizing: border-box;top: 0;bottom: 0;left: 50%;z-index: -1;}#sk-container-id-4 div.sk-parallel-item {display: flex;flex-direction: column;z-index: 1;position: relative;background-color: white;}#sk-container-id-4 div.sk-parallel-item:first-child::after {align-self: flex-end;width: 50%;}#sk-container-id-4 div.sk-parallel-item:last-child::after {align-self: flex-start;width: 50%;}#sk-container-id-4 div.sk-parallel-item:only-child::after {width: 0;}#sk-container-id-4 div.sk-dashed-wrapped {border: 1px dashed gray;margin: 0 0.4em 0.5em 0.4em;box-sizing: border-box;padding-bottom: 0.4em;background-color: white;}#sk-container-id-4 div.sk-label label {font-family: monospace;font-weight: bold;display: inline-block;line-height: 1.2em;}#sk-container-id-4 div.sk-label-container {text-align: center;}#sk-container-id-4 div.sk-container {/* jupyter's `normalize.less` sets `[hidden] { display: none; }` but bootstrap.min.css set `[hidden] { display: none !important; }` so we also need the `!important` here to be able to override the default hidden behavior on the sphinx rendered scikit-learn.org. See: https://github.com/scikit-learn/scikit-learn/issues/21755 */display: inline-block !important;position: relative;}#sk-container-id-4 div.sk-text-repr-fallback {display: none;}</style><div id=\"sk-container-id-4\" class=\"sk-top-container\"><div class=\"sk-text-repr-fallback\"><pre>TfidfVectorizer(ngram_range=(1, 3), stop_words=&#x27;english&#x27;)</pre><b>In a Jupyter environment, please rerun this cell to show the HTML representation or trust the notebook. <br />On GitHub, the HTML representation is unable to render, please try loading this page with nbviewer.org.</b></div><div class=\"sk-container\" hidden><div class=\"sk-item\"><div class=\"sk-estimator sk-toggleable\"><input class=\"sk-toggleable__control sk-hidden--visually\" id=\"sk-estimator-id-4\" type=\"checkbox\" checked><label for=\"sk-estimator-id-4\" class=\"sk-toggleable__label sk-toggleable__label-arrow\">TfidfVectorizer</label><div class=\"sk-toggleable__content\"><pre>TfidfVectorizer(ngram_range=(1, 3), stop_words=&#x27;english&#x27;)</pre></div></div></div></div></div>"
      ],
      "text/plain": [
       "TfidfVectorizer(ngram_range=(1, 3), stop_words='english')"
      ]
     },
     "execution_count": 217,
     "metadata": {},
     "output_type": "execute_result"
    }
   ],
   "source": [
    "tf=TfidfVectorizer(analyzer='word',ngram_range=(1,3),stop_words='english')\n",
    "tf"
   ]
  },
  {
   "cell_type": "code",
   "execution_count": 218,
   "id": "314048b9-5a94-43e8-a3cb-017474ea42e1",
   "metadata": {},
   "outputs": [],
   "source": [
    "tf_matrix=tf.fit_transform(movies3['genres'])"
   ]
  },
  {
   "cell_type": "code",
   "execution_count": 219,
   "id": "a884fc8c-8627-4854-a07f-b87ce914a836",
   "metadata": {},
   "outputs": [],
   "source": [
    "cosine_sim=cosine_similarity(tf_matrix,tf_matrix)"
   ]
  },
  {
   "cell_type": "code",
   "execution_count": 211,
   "id": "a166cd4f-10d9-4f82-b7c5-642931f11444",
   "metadata": {},
   "outputs": [
    {
     "data": {
      "text/plain": [
       "array([[1.        , 0.02677945, 0.02931913, ..., 0.10229517, 0.        ,\n",
       "        0.        ],\n",
       "       [0.02677945, 1.        , 0.        , ..., 0.03626651, 0.02411583,\n",
       "        0.02863994],\n",
       "       [0.02931913, 0.        , 1.        , ..., 0.        , 0.        ,\n",
       "        0.35526663],\n",
       "       ...,\n",
       "       [0.10229517, 0.03626651, 0.        , ..., 1.        , 0.        ,\n",
       "        0.        ],\n",
       "       [0.        , 0.02411583, 0.        , ..., 0.        , 1.        ,\n",
       "        0.07090711],\n",
       "       [0.        , 0.02863994, 0.35526663, ..., 0.        , 0.07090711,\n",
       "        1.        ]])"
      ]
     },
     "execution_count": 211,
     "metadata": {},
     "output_type": "execute_result"
    }
   ],
   "source": [
    "cosine_sim"
   ]
  },
  {
   "cell_type": "code",
   "execution_count": 220,
   "id": "986205c7-51dd-4f82-83ad-151ad165be5e",
   "metadata": {},
   "outputs": [
    {
     "data": {
      "text/html": [
       "<div>\n",
       "<style scoped>\n",
       "    .dataframe tbody tr th:only-of-type {\n",
       "        vertical-align: middle;\n",
       "    }\n",
       "\n",
       "    .dataframe tbody tr th {\n",
       "        vertical-align: top;\n",
       "    }\n",
       "\n",
       "    .dataframe thead th {\n",
       "        text-align: right;\n",
       "    }\n",
       "</style>\n",
       "<table border=\"1\" class=\"dataframe\">\n",
       "  <thead>\n",
       "    <tr style=\"text-align: right;\">\n",
       "      <th></th>\n",
       "      <th>genres</th>\n",
       "    </tr>\n",
       "    <tr>\n",
       "      <th>title</th>\n",
       "      <th></th>\n",
       "    </tr>\n",
       "  </thead>\n",
       "  <tbody>\n",
       "    <tr>\n",
       "      <th>'71 (2014)</th>\n",
       "      <td>Action Drama Thriller War</td>\n",
       "    </tr>\n",
       "    <tr>\n",
       "      <th>'Hellboy': The Seeds of Creation (2004)</th>\n",
       "      <td>Action Adventure Comedy Documentary Fantasy</td>\n",
       "    </tr>\n",
       "    <tr>\n",
       "      <th>'Round Midnight (1986)</th>\n",
       "      <td>Drama Musical</td>\n",
       "    </tr>\n",
       "    <tr>\n",
       "      <th>'Til There Was You (1997)</th>\n",
       "      <td>Drama Romance</td>\n",
       "    </tr>\n",
       "    <tr>\n",
       "      <th>'burbs, The (1989)</th>\n",
       "      <td>Comedy</td>\n",
       "    </tr>\n",
       "  </tbody>\n",
       "</table>\n",
       "</div>"
      ],
      "text/plain": [
       "                                                                              genres\n",
       "title                                                                               \n",
       "'71 (2014)                                                 Action Drama Thriller War\n",
       "'Hellboy': The Seeds of Creation (2004)  Action Adventure Comedy Documentary Fantasy\n",
       "'Round Midnight (1986)                                                 Drama Musical\n",
       "'Til There Was You (1997)                                              Drama Romance\n",
       "'burbs, The (1989)                                                            Comedy"
      ]
     },
     "execution_count": 220,
     "metadata": {},
     "output_type": "execute_result"
    }
   ],
   "source": [
    "movies3.head()"
   ]
  },
  {
   "cell_type": "code",
   "execution_count": 223,
   "id": "4739f1b9-8408-44b0-b109-89bb0fbe4df7",
   "metadata": {},
   "outputs": [],
   "source": [
    "movies3=pd.read_csv(\"movies.csv\")"
   ]
  },
  {
   "cell_type": "code",
   "execution_count": 224,
   "id": "f6883070-01b6-48f4-a45b-163ec7944c7e",
   "metadata": {},
   "outputs": [
    {
     "data": {
      "text/plain": [
       "0                           Toy Story (1995)\n",
       "1                             Jumanji (1995)\n",
       "2                    Grumpier Old Men (1995)\n",
       "3                   Waiting to Exhale (1995)\n",
       "4         Father of the Bride Part II (1995)\n",
       "                        ...                 \n",
       "10324          Cosmic Scrat-tastrophe (2015)\n",
       "10325             Le Grand Restaurant (1966)\n",
       "10326         A Very Murray Christmas (2015)\n",
       "10327                   The Big Short (2015)\n",
       "10328    Marco Polo: One Hundred Eyes (2015)\n",
       "Name: title, Length: 10329, dtype: object"
      ]
     },
     "execution_count": 224,
     "metadata": {},
     "output_type": "execute_result"
    }
   ],
   "source": [
    "movies3['title']"
   ]
  },
  {
   "cell_type": "code",
   "execution_count": 225,
   "id": "3290749d-363c-4539-8a59-33eb0fd42287",
   "metadata": {},
   "outputs": [
    {
     "data": {
      "text/plain": [
       "title\n",
       "Toy Story (1995)                           0\n",
       "Jumanji (1995)                             1\n",
       "Grumpier Old Men (1995)                    2\n",
       "Waiting to Exhale (1995)                   3\n",
       "Father of the Bride Part II (1995)         4\n",
       "                                       ...  \n",
       "Cosmic Scrat-tastrophe (2015)          10324\n",
       "Le Grand Restaurant (1966)             10325\n",
       "A Very Murray Christmas (2015)         10326\n",
       "The Big Short (2015)                   10327\n",
       "Marco Polo: One Hundred Eyes (2015)    10328\n",
       "Length: 10329, dtype: int64"
      ]
     },
     "execution_count": 225,
     "metadata": {},
     "output_type": "execute_result"
    }
   ],
   "source": [
    "pd.Series(movies3.index,index=movies3['title'])"
   ]
  },
  {
   "cell_type": "code",
   "execution_count": null,
   "id": "d575efeb-7683-4719-ad1b-28459218f605",
   "metadata": {},
   "outputs": [],
   "source": []
  },
  {
   "cell_type": "code",
   "execution_count": null,
   "id": "7061b6b6-28d5-4d1b-b5e5-0909578caba3",
   "metadata": {},
   "outputs": [],
   "source": []
  },
  {
   "cell_type": "code",
   "execution_count": 179,
   "id": "84794322-45a2-4f43-ad5b-057b13023f37",
   "metadata": {},
   "outputs": [],
   "source": [
    "def recommendation_genre(movie_df, similarity_matrix, movie_title, topN):\n",
    "    # Indices for all movies\n",
    "    indices = pd.Series(movie_df.index, index=movie_df['title'])\n",
    "    \n",
    "    # Index of the target movie\n",
    "    index = indices[movie_title]\n",
    "    \n",
    "    # Cosine similarity\n",
    "    cosine_scores = list(enumerate(similarity_matrix[index]))\n",
    "    cosine_scores = sorted(cosine_scores, key=lambda x: x[1], reverse=True)[1:topN + 2]\n",
    "    \n",
    "    # Extract the matching movies\n",
    "    matched = [i[0] for i in cosine_scores]\n",
    "    \n",
    "    # Extract matching dataframe\n",
    "    matching_df = movie_df.iloc[matched]\n",
    "    \n",
    "    # Filter out the target movie\n",
    "    matching_df = matching_df[matching_df['title'] != movie_title]\n",
    "\n",
    "    # Output\n",
    "    matching_df.rename(columns={'title': 'Movie Title'}, inplace=True)\n",
    "    matching_df['Sno.'] = range(1, len(matching_df) + 1)\n",
    "    matching_df.index = range(0, len(matching_df))\n",
    "    return matching_df[['Sno.', 'Movie Title']].head(topN)\n"
   ]
  },
  {
   "cell_type": "code",
   "execution_count": 180,
   "id": "552f8502-a679-4cee-a796-baabacf04aed",
   "metadata": {},
   "outputs": [
    {
     "data": {
      "text/html": [
       "<div>\n",
       "<style scoped>\n",
       "    .dataframe tbody tr th:only-of-type {\n",
       "        vertical-align: middle;\n",
       "    }\n",
       "\n",
       "    .dataframe tbody tr th {\n",
       "        vertical-align: top;\n",
       "    }\n",
       "\n",
       "    .dataframe thead th {\n",
       "        text-align: right;\n",
       "    }\n",
       "</style>\n",
       "<table border=\"1\" class=\"dataframe\">\n",
       "  <thead>\n",
       "    <tr style=\"text-align: right;\">\n",
       "      <th></th>\n",
       "      <th>Sno.</th>\n",
       "      <th>Movie Title</th>\n",
       "    </tr>\n",
       "  </thead>\n",
       "  <tbody>\n",
       "    <tr>\n",
       "      <th>0</th>\n",
       "      <td>1</td>\n",
       "      <td>Boys (1996)</td>\n",
       "    </tr>\n",
       "    <tr>\n",
       "      <th>1</th>\n",
       "      <td>2</td>\n",
       "      <td>Jude (1996)</td>\n",
       "    </tr>\n",
       "    <tr>\n",
       "      <th>2</th>\n",
       "      <td>3</td>\n",
       "      <td>Funeral in Berlin (1966)</td>\n",
       "    </tr>\n",
       "    <tr>\n",
       "      <th>3</th>\n",
       "      <td>4</td>\n",
       "      <td>Scanners (1981)</td>\n",
       "    </tr>\n",
       "    <tr>\n",
       "      <th>4</th>\n",
       "      <td>5</td>\n",
       "      <td>Mogambo (1953)</td>\n",
       "    </tr>\n",
       "    <tr>\n",
       "      <th>5</th>\n",
       "      <td>6</td>\n",
       "      <td>Mean Season, The (1985)</td>\n",
       "    </tr>\n",
       "    <tr>\n",
       "      <th>6</th>\n",
       "      <td>7</td>\n",
       "      <td>Angus (1995)</td>\n",
       "    </tr>\n",
       "    <tr>\n",
       "      <th>7</th>\n",
       "      <td>8</td>\n",
       "      <td>All About Eve (1950)</td>\n",
       "    </tr>\n",
       "    <tr>\n",
       "      <th>8</th>\n",
       "      <td>9</td>\n",
       "      <td>Cinderella (1950)</td>\n",
       "    </tr>\n",
       "    <tr>\n",
       "      <th>9</th>\n",
       "      <td>10</td>\n",
       "      <td>Manon of the Spring (Manon des sources) (1986)</td>\n",
       "    </tr>\n",
       "  </tbody>\n",
       "</table>\n",
       "</div>"
      ],
      "text/plain": [
       "   Sno.                                     Movie Title\n",
       "0     1                                     Boys (1996)\n",
       "1     2                                     Jude (1996)\n",
       "2     3                        Funeral in Berlin (1966)\n",
       "3     4                                 Scanners (1981)\n",
       "4     5                                  Mogambo (1953)\n",
       "5     6                         Mean Season, The (1985)\n",
       "6     7                                    Angus (1995)\n",
       "7     8                            All About Eve (1950)\n",
       "8     9                               Cinderella (1950)\n",
       "9    10  Manon of the Spring (Manon des sources) (1986)"
      ]
     },
     "execution_count": 180,
     "metadata": {},
     "output_type": "execute_result"
    }
   ],
   "source": [
    "#testcase\n",
    "recommendation_genre(movie_df=movies3, similarity_matrix=cosine_sim, movie_title='Contraband (2012)', topN=10)"
   ]
  },
  {
   "cell_type": "code",
   "execution_count": 181,
   "id": "ec7aaa0f-3ac8-4cfb-ba81-b8c43cfb0b89",
   "metadata": {},
   "outputs": [],
   "source": [
    "#colaboratory filtering system"
   ]
  },
  {
   "cell_type": "code",
   "execution_count": 182,
   "id": "a188d18d-f145-462b-a012-56c9376c5436",
   "metadata": {},
   "outputs": [
    {
     "data": {
      "application/vnd.jupyter.widget-view+json": {
       "model_id": "d7ba57a812134aadb3e2f77cf972c09c",
       "version_major": 2,
       "version_minor": 0
      },
      "text/plain": [
       "Tab(children=(VBox(children=(Dropdown(description='Genres', options=('Children', 'Comedy', 'Film-Noir', 'Thril…"
      ]
     },
     "metadata": {},
     "output_type": "display_data"
    }
   ],
   "source": [
    "#popularity#inputs\n",
    "genres=Dropdown(options=list(set(movies2['genres'])),description='Genres',style={\"descriptive_width\":'initial'})\n",
    "num_reviews=IntText(description=\"Minimum Reviews\",style={\"descriptive_width\":'initial'})\n",
    "num_recomendations_1=IntText(description=\"Number of Recommendation\",style={\"descriptive_width\":'initial'})\n",
    "\n",
    "#tabs\n",
    "b1=Button(description=\"RECOMMEND ME\",style={\"descriptive_width\":'initial'})\n",
    "h1=HBox([num_reviews,num_recomendations_1])\n",
    "popularity_tab=VBox([genres,h1,b1])\n",
    "\n",
    "#content bases system\n",
    "title=Textarea(description=\"Movie Title\",style={\"descriptive_width\":'initial'})\n",
    "num_recomendations_2=IntText(description=\"Number of Recommendation\",style={\"descriptive_width\":'initial'})\n",
    "\n",
    "#tabs\n",
    "h2=HBox([title,num_recomendations_2])\n",
    "b2=Button(description=\"RECOMMEND ME\",style={\"descriptive_width\":'initial'})\n",
    "\n",
    "content_tab=VBox([h2,b2])\n",
    "\n",
    "#creating final tab\n",
    "tabs=[popularity_tab,content_tab]\n",
    "wid=widgets.Tab(tabs)\n",
    "\n",
    "#set titles to the tabs\n",
    "names=['Popularity Based Recommendations','Content Based Recommendations']\n",
    "[wid.set_title(i,title) for i,title in enumerate(names)]\n",
    "\n",
    "display(wid)"
   ]
  },
  {
   "cell_type": "code",
   "execution_count": 188,
   "id": "cad54b72-adc8-4711-85ed-78c4970a0aa8",
   "metadata": {},
   "outputs": [],
   "source": [
    "#setting up events to respond \n",
    "#popularity\n",
    "def b1_clicked(b):\n",
    "    global output\n",
    "    output=TopNPopularMovies(genre=genres.value,threshold=num_reviews.value,topN=num_recomendations_1.value)\n",
    "b1.on_click(b1_clicked)  \n",
    "\n",
    "#content \n",
    "def b2_clicked(b):\n",
    "    global output\n",
    "    result=recommendation_genre(movie_df=movies3, similarity_matrix=cosine_sim, movie_title=title.value, topN=num_recomendations_2.value)\n",
    "    #output=result\n",
    "b2.on_click(b2_clicked)  \n",
    " "
   ]
  },
  {
   "cell_type": "code",
   "execution_count": 184,
   "id": "4471401c-7c3d-4c2e-95f9-a47ec3c76e78",
   "metadata": {},
   "outputs": [
    {
     "data": {
      "application/vnd.jupyter.widget-view+json": {
       "model_id": "d7ba57a812134aadb3e2f77cf972c09c",
       "version_major": 2,
       "version_minor": 0
      },
      "text/plain": [
       "Tab(children=(VBox(children=(Dropdown(description='Genres', options=('Children', 'Comedy', 'Film-Noir', 'Thril…"
      ]
     },
     "metadata": {},
     "output_type": "display_data"
    }
   ],
   "source": [
    "display(wid)"
   ]
  },
  {
   "cell_type": "code",
   "execution_count": 235,
   "id": "60b1a424-4f21-45e0-938a-5b61113699b4",
   "metadata": {},
   "outputs": [
    {
     "data": {
      "text/html": [
       "<div>\n",
       "<style scoped>\n",
       "    .dataframe tbody tr th:only-of-type {\n",
       "        vertical-align: middle;\n",
       "    }\n",
       "\n",
       "    .dataframe tbody tr th {\n",
       "        vertical-align: top;\n",
       "    }\n",
       "\n",
       "    .dataframe thead th {\n",
       "        text-align: right;\n",
       "    }\n",
       "</style>\n",
       "<table border=\"1\" class=\"dataframe\">\n",
       "  <thead>\n",
       "    <tr style=\"text-align: right;\">\n",
       "      <th></th>\n",
       "      <th>Sno.</th>\n",
       "      <th>Movie Title</th>\n",
       "      <th>Average Movie Rating</th>\n",
       "      <th>Number of Reviews</th>\n",
       "    </tr>\n",
       "  </thead>\n",
       "  <tbody>\n",
       "    <tr>\n",
       "      <th>18641</th>\n",
       "      <td>1</td>\n",
       "      <td>North by Northwest (1959)</td>\n",
       "      <td>4.273973</td>\n",
       "      <td>73</td>\n",
       "    </tr>\n",
       "    <tr>\n",
       "      <th>18395</th>\n",
       "      <td>2</td>\n",
       "      <td>Life Is Beautiful (La Vita è bella) (1997)</td>\n",
       "      <td>4.253425</td>\n",
       "      <td>73</td>\n",
       "    </tr>\n",
       "    <tr>\n",
       "      <th>17799</th>\n",
       "      <td>3</td>\n",
       "      <td>Casablanca (1942)</td>\n",
       "      <td>4.236000</td>\n",
       "      <td>125</td>\n",
       "    </tr>\n",
       "    <tr>\n",
       "      <th>18132</th>\n",
       "      <td>4</td>\n",
       "      <td>Good Will Hunting (1997)</td>\n",
       "      <td>4.167857</td>\n",
       "      <td>140</td>\n",
       "    </tr>\n",
       "    <tr>\n",
       "      <th>18774</th>\n",
       "      <td>5</td>\n",
       "      <td>Princess Bride, The (1987)</td>\n",
       "      <td>4.163743</td>\n",
       "      <td>171</td>\n",
       "    </tr>\n",
       "    <tr>\n",
       "      <th>17606</th>\n",
       "      <td>6</td>\n",
       "      <td>American Beauty (1999)</td>\n",
       "      <td>4.157407</td>\n",
       "      <td>216</td>\n",
       "    </tr>\n",
       "    <tr>\n",
       "      <th>18068</th>\n",
       "      <td>7</td>\n",
       "      <td>Forrest Gump (1994)</td>\n",
       "      <td>4.138264</td>\n",
       "      <td>311</td>\n",
       "    </tr>\n",
       "    <tr>\n",
       "      <th>18140</th>\n",
       "      <td>8</td>\n",
       "      <td>Graduate, The (1967)</td>\n",
       "      <td>4.132184</td>\n",
       "      <td>87</td>\n",
       "    </tr>\n",
       "    <tr>\n",
       "      <th>18000</th>\n",
       "      <td>9</td>\n",
       "      <td>Eternal Sunshine of the Spotless Mind (2004)</td>\n",
       "      <td>4.122449</td>\n",
       "      <td>98</td>\n",
       "    </tr>\n",
       "    <tr>\n",
       "      <th>17604</th>\n",
       "      <td>10</td>\n",
       "      <td>Amelie (Fabuleux destin d'Amélie Poulain, Le) ...</td>\n",
       "      <td>4.075630</td>\n",
       "      <td>119</td>\n",
       "    </tr>\n",
       "  </tbody>\n",
       "</table>\n",
       "</div>"
      ],
      "text/plain": [
       "       Sno.                                        Movie Title  \\\n",
       "18641     1                          North by Northwest (1959)   \n",
       "18395     2         Life Is Beautiful (La Vita è bella) (1997)   \n",
       "17799     3                                  Casablanca (1942)   \n",
       "18132     4                           Good Will Hunting (1997)   \n",
       "18774     5                         Princess Bride, The (1987)   \n",
       "17606     6                             American Beauty (1999)   \n",
       "18068     7                                Forrest Gump (1994)   \n",
       "18140     8                               Graduate, The (1967)   \n",
       "18000     9       Eternal Sunshine of the Spotless Mind (2004)   \n",
       "17604    10  Amelie (Fabuleux destin d'Amélie Poulain, Le) ...   \n",
       "\n",
       "       Average Movie Rating  Number of Reviews  \n",
       "18641              4.273973                 73  \n",
       "18395              4.253425                 73  \n",
       "17799              4.236000                125  \n",
       "18132              4.167857                140  \n",
       "18774              4.163743                171  \n",
       "17606              4.157407                216  \n",
       "18068              4.138264                311  \n",
       "18140              4.132184                 87  \n",
       "18000              4.122449                 98  \n",
       "17604              4.075630                119  "
      ]
     },
     "execution_count": 235,
     "metadata": {},
     "output_type": "execute_result"
    }
   ],
   "source": [
    "output\n"
   ]
  },
  {
   "cell_type": "code",
   "execution_count": null,
   "id": "dc0fb2be-3d4d-4ad3-a4b4-ec55ea6a2e4d",
   "metadata": {},
   "outputs": [],
   "source": []
  }
 ],
 "metadata": {
  "kernelspec": {
   "display_name": "Python 3 (ipykernel)",
   "language": "python",
   "name": "python3"
  },
  "language_info": {
   "codemirror_mode": {
    "name": "ipython",
    "version": 3
   },
   "file_extension": ".py",
   "mimetype": "text/x-python",
   "name": "python",
   "nbconvert_exporter": "python",
   "pygments_lexer": "ipython3",
   "version": "3.12.1"
  }
 },
 "nbformat": 4,
 "nbformat_minor": 5
}
